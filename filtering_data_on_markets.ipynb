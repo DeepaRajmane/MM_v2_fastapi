{
 "cells": [
  {
   "cell_type": "code",
   "execution_count": 1,
   "id": "2098dd5b-a301-497e-a1ae-8a53d9c76f2b",
   "metadata": {},
   "outputs": [],
   "source": [
    "import pandas as pd"
   ]
  },
  {
   "cell_type": "code",
   "execution_count": 2,
   "id": "1d880cb9-1530-44b9-a0de-8c182a750a9f",
   "metadata": {},
   "outputs": [],
   "source": [
    "df = pd.read_excel(\"C:\\\\Users\\\\RajmaneD\\\\OneDrive - Kantar\\\\DR\\\\MM_v2_fastapi\\\\KANTAR_MM_dummy_data.xlsx\",sheet_name=\"Sheet2\")"
   ]
  },
  {
   "cell_type": "code",
   "execution_count": 3,
   "id": "5bbe7420-27ff-4de3-8402-786861605893",
   "metadata": {},
   "outputs": [
    {
     "data": {
      "text/html": [
       "<div>\n",
       "<style scoped>\n",
       "    .dataframe tbody tr th:only-of-type {\n",
       "        vertical-align: middle;\n",
       "    }\n",
       "\n",
       "    .dataframe tbody tr th {\n",
       "        vertical-align: top;\n",
       "    }\n",
       "\n",
       "    .dataframe thead th {\n",
       "        text-align: right;\n",
       "    }\n",
       "</style>\n",
       "<table border=\"1\" class=\"dataframe\">\n",
       "  <thead>\n",
       "    <tr style=\"text-align: right;\">\n",
       "      <th></th>\n",
       "      <th>unique_serial_number</th>\n",
       "      <th>Age</th>\n",
       "      <th>Gender</th>\n",
       "      <th>NCCS</th>\n",
       "      <th>Detailed_NCCS</th>\n",
       "      <th>Townclass</th>\n",
       "      <th>State</th>\n",
       "      <th>City</th>\n",
       "      <th>Occupation</th>\n",
       "      <th>Education</th>\n",
       "      <th>...</th>\n",
       "      <th>Colour_TV</th>\n",
       "      <th>Refrigerator</th>\n",
       "      <th>Washing_Machine</th>\n",
       "      <th>Personal_Computer_Laptop</th>\n",
       "      <th>Car_Jeep_Van</th>\n",
       "      <th>Air_Conditioner</th>\n",
       "      <th>Year</th>\n",
       "      <th>pincode</th>\n",
       "      <th>latitude</th>\n",
       "      <th>longitude</th>\n",
       "    </tr>\n",
       "  </thead>\n",
       "  <tbody>\n",
       "    <tr>\n",
       "      <th>0</th>\n",
       "      <td>10000209.0</td>\n",
       "      <td>3</td>\n",
       "      <td>1</td>\n",
       "      <td>2</td>\n",
       "      <td>3</td>\n",
       "      <td>1</td>\n",
       "      <td>Maharashtra</td>\n",
       "      <td>Mumbai</td>\n",
       "      <td>3</td>\n",
       "      <td>8</td>\n",
       "      <td>...</td>\n",
       "      <td>1</td>\n",
       "      <td>1</td>\n",
       "      <td>0</td>\n",
       "      <td>1</td>\n",
       "      <td>0</td>\n",
       "      <td>1</td>\n",
       "      <td>2024</td>\n",
       "      <td>400008</td>\n",
       "      <td>18.963572</td>\n",
       "      <td>72.823472</td>\n",
       "    </tr>\n",
       "    <tr>\n",
       "      <th>1</th>\n",
       "      <td>10000211.0</td>\n",
       "      <td>4</td>\n",
       "      <td>2</td>\n",
       "      <td>2</td>\n",
       "      <td>2</td>\n",
       "      <td>1</td>\n",
       "      <td>Maharashtra</td>\n",
       "      <td>Mumbai</td>\n",
       "      <td>3</td>\n",
       "      <td>9</td>\n",
       "      <td>...</td>\n",
       "      <td>1</td>\n",
       "      <td>1</td>\n",
       "      <td>1</td>\n",
       "      <td>1</td>\n",
       "      <td>0</td>\n",
       "      <td>1</td>\n",
       "      <td>2024</td>\n",
       "      <td>400008</td>\n",
       "      <td>18.963572</td>\n",
       "      <td>72.823472</td>\n",
       "    </tr>\n",
       "    <tr>\n",
       "      <th>2</th>\n",
       "      <td>10000214.0</td>\n",
       "      <td>3</td>\n",
       "      <td>2</td>\n",
       "      <td>2</td>\n",
       "      <td>2</td>\n",
       "      <td>1</td>\n",
       "      <td>Maharashtra</td>\n",
       "      <td>Mumbai</td>\n",
       "      <td>8</td>\n",
       "      <td>6</td>\n",
       "      <td>...</td>\n",
       "      <td>1</td>\n",
       "      <td>1</td>\n",
       "      <td>1</td>\n",
       "      <td>1</td>\n",
       "      <td>0</td>\n",
       "      <td>1</td>\n",
       "      <td>2024</td>\n",
       "      <td>400083</td>\n",
       "      <td>19.103900</td>\n",
       "      <td>72.910050</td>\n",
       "    </tr>\n",
       "    <tr>\n",
       "      <th>3</th>\n",
       "      <td>10000221.0</td>\n",
       "      <td>1</td>\n",
       "      <td>1</td>\n",
       "      <td>4</td>\n",
       "      <td>6</td>\n",
       "      <td>1</td>\n",
       "      <td>Maharashtra</td>\n",
       "      <td>Mumbai</td>\n",
       "      <td>1</td>\n",
       "      <td>3</td>\n",
       "      <td>...</td>\n",
       "      <td>1</td>\n",
       "      <td>1</td>\n",
       "      <td>0</td>\n",
       "      <td>0</td>\n",
       "      <td>0</td>\n",
       "      <td>0</td>\n",
       "      <td>2024</td>\n",
       "      <td>400012</td>\n",
       "      <td>19.000800</td>\n",
       "      <td>72.830850</td>\n",
       "    </tr>\n",
       "    <tr>\n",
       "      <th>4</th>\n",
       "      <td>10000222.0</td>\n",
       "      <td>6</td>\n",
       "      <td>1</td>\n",
       "      <td>5</td>\n",
       "      <td>8</td>\n",
       "      <td>1</td>\n",
       "      <td>Maharashtra</td>\n",
       "      <td>Mumbai</td>\n",
       "      <td>8</td>\n",
       "      <td>5</td>\n",
       "      <td>...</td>\n",
       "      <td>0</td>\n",
       "      <td>0</td>\n",
       "      <td>0</td>\n",
       "      <td>0</td>\n",
       "      <td>0</td>\n",
       "      <td>0</td>\n",
       "      <td>2024</td>\n",
       "      <td>400083</td>\n",
       "      <td>19.103900</td>\n",
       "      <td>72.910050</td>\n",
       "    </tr>\n",
       "  </tbody>\n",
       "</table>\n",
       "<p>5 rows × 37 columns</p>\n",
       "</div>"
      ],
      "text/plain": [
       "   unique_serial_number  Age  Gender  NCCS  Detailed_NCCS  Townclass  \\\n",
       "0            10000209.0    3       1     2              3          1   \n",
       "1            10000211.0    4       2     2              2          1   \n",
       "2            10000214.0    3       2     2              2          1   \n",
       "3            10000221.0    1       1     4              6          1   \n",
       "4            10000222.0    6       1     5              8          1   \n",
       "\n",
       "         State    City  Occupation  Education  ...  Colour_TV  Refrigerator  \\\n",
       "0  Maharashtra  Mumbai           3          8  ...          1             1   \n",
       "1  Maharashtra  Mumbai           3          9  ...          1             1   \n",
       "2  Maharashtra  Mumbai           8          6  ...          1             1   \n",
       "3  Maharashtra  Mumbai           1          3  ...          1             1   \n",
       "4  Maharashtra  Mumbai           8          5  ...          0             0   \n",
       "\n",
       "   Washing_Machine  Personal_Computer_Laptop  Car_Jeep_Van  Air_Conditioner  \\\n",
       "0                0                         1             0                1   \n",
       "1                1                         1             0                1   \n",
       "2                1                         1             0                1   \n",
       "3                0                         0             0                0   \n",
       "4                0                         0             0                0   \n",
       "\n",
       "   Year  pincode   latitude  longitude  \n",
       "0  2024   400008  18.963572  72.823472  \n",
       "1  2024   400008  18.963572  72.823472  \n",
       "2  2024   400083  19.103900  72.910050  \n",
       "3  2024   400012  19.000800  72.830850  \n",
       "4  2024   400083  19.103900  72.910050  \n",
       "\n",
       "[5 rows x 37 columns]"
      ]
     },
     "execution_count": 3,
     "metadata": {},
     "output_type": "execute_result"
    }
   ],
   "source": [
    "df.head()"
   ]
  },
  {
   "cell_type": "code",
   "execution_count": 4,
   "id": "7863bc85-addf-477e-a70c-3c29b7479c2b",
   "metadata": {},
   "outputs": [
    {
     "data": {
      "text/plain": [
       "(153, 37)"
      ]
     },
     "execution_count": 4,
     "metadata": {},
     "output_type": "execute_result"
    }
   ],
   "source": [
    "df.shape"
   ]
  },
  {
   "cell_type": "code",
   "execution_count": 5,
   "id": "fded30ac-d361-411f-b2cd-57496e92c11b",
   "metadata": {},
   "outputs": [
    {
     "data": {
      "text/plain": [
       "City\n",
       "Mumbai       99\n",
       "Bangalore    20\n",
       "Pune         17\n",
       "Chennai      17\n",
       "Name: count, dtype: int64"
      ]
     },
     "execution_count": 5,
     "metadata": {},
     "output_type": "execute_result"
    }
   ],
   "source": [
    "df.City.value_counts()"
   ]
  },
  {
   "cell_type": "code",
   "execution_count": 6,
   "id": "ba095a67-85d4-4925-948f-203125bed67c",
   "metadata": {},
   "outputs": [],
   "source": [
    "markets={}\n",
    "for _, row in df.iterrows():\n",
    "    state = row['State']\n",
    "    city = row['City']\n",
    "    pincode = row['pincode']\n",
    "    if state not in markets:\n",
    "        markets[state] = {}\n",
    "    if city not in markets[state]:\n",
    "        markets[state][city] = []\n",
    "    if pincode not in markets[state][city]:\n",
    "        markets[state][city].append(pincode)"
   ]
  },
  {
   "cell_type": "code",
   "execution_count": 7,
   "id": "5e06bf75-1ae9-4524-ad6f-9f83dc7cb5da",
   "metadata": {},
   "outputs": [
    {
     "data": {
      "text/plain": [
       "{'Maharashtra': {'Mumbai': [400008,\n",
       "   400083,\n",
       "   400012,\n",
       "   400077,\n",
       "   400010,\n",
       "   400080,\n",
       "   400070,\n",
       "   400086,\n",
       "   400055,\n",
       "   400097,\n",
       "   400005,\n",
       "   400013,\n",
       "   400067,\n",
       "   400037,\n",
       "   400078],\n",
       "  'Pune': [411002,\n",
       "   411007,\n",
       "   411045,\n",
       "   411021,\n",
       "   411038,\n",
       "   411028,\n",
       "   411014,\n",
       "   411005,\n",
       "   411001]},\n",
       " 'Karnataka': {'Bangalore': [560001,\n",
       "   560038,\n",
       "   560034,\n",
       "   560066,\n",
       "   560041,\n",
       "   560010,\n",
       "   560003,\n",
       "   560076,\n",
       "   560064,\n",
       "   560024]},\n",
       " 'Tamil Nadu': {'Chennai': [600017,\n",
       "   600020,\n",
       "   600040,\n",
       "   600042,\n",
       "   600045,\n",
       "   600004,\n",
       "   600024,\n",
       "   600032,\n",
       "   600008,\n",
       "   600014]}}"
      ]
     },
     "execution_count": 7,
     "metadata": {},
     "output_type": "execute_result"
    }
   ],
   "source": [
    "markets"
   ]
  },
  {
   "cell_type": "code",
   "execution_count": 8,
   "id": "5f197384-ce76-4c6a-8eca-1c5aae907046",
   "metadata": {},
   "outputs": [],
   "source": [
    "features=['Online_Shopping', 'Linear_Television', 'Smart_Television',\n",
    "       'Internet_Users', 'Smart_Phone_Users', 'Social_Media_Users',\n",
    "       'Digital_Payment', 'Credit_Card', 'Netbanking', 'Insurance',\n",
    "       'Stocks_Shares', 'Mutual_Funds', 'Loan', 'Electricity_Connection',\n",
    "       'Ceiling_Fan', 'LPG_Stove', 'Two_wheeler', 'Colour_TV', 'Refrigerator',\n",
    "       'Washing_Machine', 'Personal_Computer_Laptop', 'Car_Jeep_Van',\n",
    "       'Air_Conditioner']"
   ]
  },
  {
   "cell_type": "code",
   "execution_count": 9,
   "id": "77c147da-8bc1-4d9d-b632-04fb2f74d60b",
   "metadata": {},
   "outputs": [],
   "source": [
    "base={}\n",
    "state_base={}\n",
    "city_base={}\n",
    "pan_india_base={}\n",
    "counts=df[features].sum().to_dict()\n",
    "pan_india_base={k: round((v/df.shape[0])*100) for k, v in counts.items()}\n",
    "for state in list(df.State.unique()):\n",
    "    tdf_state = df[(df['State']==state)]\n",
    "    counts_state=tdf_state[features].sum().to_dict()\n",
    "    perc_counts_state={k: round((v/tdf_state.shape[0])*100) for k, v in counts_state.items()}     \n",
    "    state_base[state]=perc_counts_state\n",
    "    city_base[state] = {}\n",
    "    for city in list(tdf_state.City.unique()):         \n",
    "        tdf_city = tdf_state[tdf_state['City']==city]\n",
    "        counts_city=tdf_city[features].sum().to_dict()\n",
    "        perc_counts_city={k: int((v/tdf_city.shape[0])*100) for k, v in counts_city.items()}         \n",
    "        city_base[state][city]=perc_counts_city\n",
    "base['pan_india']=pan_india_base\n",
    "base['state']=state_base\n",
    "base['city']=city_base\n",
    "    "
   ]
  },
  {
   "cell_type": "code",
   "execution_count": 21,
   "id": "425f16a2-20fc-4859-9b9b-cbfc71c1d12b",
   "metadata": {},
   "outputs": [
    {
     "data": {
      "text/plain": [
       "{'pan_india': {'Online_Shopping': 52,\n",
       "  'Linear_Television': 96,\n",
       "  'Smart_Television': 33,\n",
       "  'Internet_Users': 89,\n",
       "  'Smart_Phone_Users': 76,\n",
       "  'Social_Media_Users': 79,\n",
       "  'Digital_Payment': 58,\n",
       "  'Credit_Card': 11,\n",
       "  'Netbanking': 10,\n",
       "  'Insurance': 34,\n",
       "  'Stocks_Shares': 3,\n",
       "  'Mutual_Funds': 7,\n",
       "  'Loan': 2,\n",
       "  'Electricity_Connection': 100,\n",
       "  'Ceiling_Fan': 100,\n",
       "  'LPG_Stove': 100,\n",
       "  'Two_wheeler': 40,\n",
       "  'Colour_TV': 97,\n",
       "  'Refrigerator': 95,\n",
       "  'Washing_Machine': 67,\n",
       "  'Personal_Computer_Laptop': 29,\n",
       "  'Car_Jeep_Van': 5,\n",
       "  'Air_Conditioner': 27},\n",
       " 'state': {'Maharashtra': {'Online_Shopping': 48,\n",
       "   'Linear_Television': 95,\n",
       "   'Smart_Television': 33,\n",
       "   'Internet_Users': 90,\n",
       "   'Smart_Phone_Users': 78,\n",
       "   'Social_Media_Users': 78,\n",
       "   'Digital_Payment': 55,\n",
       "   'Credit_Card': 8,\n",
       "   'Netbanking': 6,\n",
       "   'Insurance': 30,\n",
       "   'Stocks_Shares': 0,\n",
       "   'Mutual_Funds': 5,\n",
       "   'Loan': 3,\n",
       "   'Electricity_Connection': 100,\n",
       "   'Ceiling_Fan': 100,\n",
       "   'LPG_Stove': 100,\n",
       "   'Two_wheeler': 32,\n",
       "   'Colour_TV': 97,\n",
       "   'Refrigerator': 93,\n",
       "   'Washing_Machine': 65,\n",
       "   'Personal_Computer_Laptop': 29,\n",
       "   'Car_Jeep_Van': 6,\n",
       "   'Air_Conditioner': 24},\n",
       "  'Karnataka': {'Online_Shopping': 65,\n",
       "   'Linear_Television': 100,\n",
       "   'Smart_Television': 35,\n",
       "   'Internet_Users': 85,\n",
       "   'Smart_Phone_Users': 70,\n",
       "   'Social_Media_Users': 80,\n",
       "   'Digital_Payment': 65,\n",
       "   'Credit_Card': 20,\n",
       "   'Netbanking': 20,\n",
       "   'Insurance': 45,\n",
       "   'Stocks_Shares': 10,\n",
       "   'Mutual_Funds': 10,\n",
       "   'Loan': 0,\n",
       "   'Electricity_Connection': 100,\n",
       "   'Ceiling_Fan': 100,\n",
       "   'LPG_Stove': 100,\n",
       "   'Two_wheeler': 65,\n",
       "   'Colour_TV': 100,\n",
       "   'Refrigerator': 100,\n",
       "   'Washing_Machine': 75,\n",
       "   'Personal_Computer_Laptop': 30,\n",
       "   'Car_Jeep_Van': 0,\n",
       "   'Air_Conditioner': 40},\n",
       "  'Tamil Nadu': {'Online_Shopping': 65,\n",
       "   'Linear_Television': 100,\n",
       "   'Smart_Television': 35,\n",
       "   'Internet_Users': 88,\n",
       "   'Smart_Phone_Users': 71,\n",
       "   'Social_Media_Users': 82,\n",
       "   'Digital_Payment': 65,\n",
       "   'Credit_Card': 24,\n",
       "   'Netbanking': 24,\n",
       "   'Insurance': 47,\n",
       "   'Stocks_Shares': 12,\n",
       "   'Mutual_Funds': 12,\n",
       "   'Loan': 0,\n",
       "   'Electricity_Connection': 100,\n",
       "   'Ceiling_Fan': 100,\n",
       "   'LPG_Stove': 100,\n",
       "   'Two_wheeler': 65,\n",
       "   'Colour_TV': 100,\n",
       "   'Refrigerator': 100,\n",
       "   'Washing_Machine': 71,\n",
       "   'Personal_Computer_Laptop': 29,\n",
       "   'Car_Jeep_Van': 0,\n",
       "   'Air_Conditioner': 35}},\n",
       " 'city': {'Maharashtra': {'Mumbai': {'Online_Shopping': 44,\n",
       "    'Linear_Television': 93,\n",
       "    'Smart_Television': 31,\n",
       "    'Internet_Users': 88,\n",
       "    'Smart_Phone_Users': 77,\n",
       "    'Social_Media_Users': 75,\n",
       "    'Digital_Payment': 50,\n",
       "    'Credit_Card': 7,\n",
       "    'Netbanking': 7,\n",
       "    'Insurance': 32,\n",
       "    'Stocks_Shares': 0,\n",
       "    'Mutual_Funds': 6,\n",
       "    'Loan': 1,\n",
       "    'Electricity_Connection': 100,\n",
       "    'Ceiling_Fan': 100,\n",
       "    'LPG_Stove': 100,\n",
       "    'Two_wheeler': 31,\n",
       "    'Colour_TV': 95,\n",
       "    'Refrigerator': 91,\n",
       "    'Washing_Machine': 58,\n",
       "    'Personal_Computer_Laptop': 25,\n",
       "    'Car_Jeep_Van': 5,\n",
       "    'Air_Conditioner': 22},\n",
       "   'Pune': {'Online_Shopping': 70,\n",
       "    'Linear_Television': 100,\n",
       "    'Smart_Television': 41,\n",
       "    'Internet_Users': 94,\n",
       "    'Smart_Phone_Users': 82,\n",
       "    'Social_Media_Users': 94,\n",
       "    'Digital_Payment': 82,\n",
       "    'Credit_Card': 11,\n",
       "    'Netbanking': 0,\n",
       "    'Insurance': 17,\n",
       "    'Stocks_Shares': 0,\n",
       "    'Mutual_Funds': 0,\n",
       "    'Loan': 11,\n",
       "    'Electricity_Connection': 100,\n",
       "    'Ceiling_Fan': 100,\n",
       "    'LPG_Stove': 100,\n",
       "    'Two_wheeler': 35,\n",
       "    'Colour_TV': 100,\n",
       "    'Refrigerator': 100,\n",
       "    'Washing_Machine': 100,\n",
       "    'Personal_Computer_Laptop': 52,\n",
       "    'Car_Jeep_Van': 11,\n",
       "    'Air_Conditioner': 35}},\n",
       "  'Karnataka': {'Bangalore': {'Online_Shopping': 65,\n",
       "    'Linear_Television': 100,\n",
       "    'Smart_Television': 35,\n",
       "    'Internet_Users': 85,\n",
       "    'Smart_Phone_Users': 70,\n",
       "    'Social_Media_Users': 80,\n",
       "    'Digital_Payment': 65,\n",
       "    'Credit_Card': 20,\n",
       "    'Netbanking': 20,\n",
       "    'Insurance': 45,\n",
       "    'Stocks_Shares': 10,\n",
       "    'Mutual_Funds': 10,\n",
       "    'Loan': 0,\n",
       "    'Electricity_Connection': 100,\n",
       "    'Ceiling_Fan': 100,\n",
       "    'LPG_Stove': 100,\n",
       "    'Two_wheeler': 65,\n",
       "    'Colour_TV': 100,\n",
       "    'Refrigerator': 100,\n",
       "    'Washing_Machine': 75,\n",
       "    'Personal_Computer_Laptop': 30,\n",
       "    'Car_Jeep_Van': 0,\n",
       "    'Air_Conditioner': 40}},\n",
       "  'Tamil Nadu': {'Chennai': {'Online_Shopping': 64,\n",
       "    'Linear_Television': 100,\n",
       "    'Smart_Television': 35,\n",
       "    'Internet_Users': 88,\n",
       "    'Smart_Phone_Users': 70,\n",
       "    'Social_Media_Users': 82,\n",
       "    'Digital_Payment': 64,\n",
       "    'Credit_Card': 23,\n",
       "    'Netbanking': 23,\n",
       "    'Insurance': 47,\n",
       "    'Stocks_Shares': 11,\n",
       "    'Mutual_Funds': 11,\n",
       "    'Loan': 0,\n",
       "    'Electricity_Connection': 100,\n",
       "    'Ceiling_Fan': 100,\n",
       "    'LPG_Stove': 100,\n",
       "    'Two_wheeler': 64,\n",
       "    'Colour_TV': 100,\n",
       "    'Refrigerator': 100,\n",
       "    'Washing_Machine': 70,\n",
       "    'Personal_Computer_Laptop': 29,\n",
       "    'Car_Jeep_Van': 0,\n",
       "    'Air_Conditioner': 35}}}}"
      ]
     },
     "execution_count": 21,
     "metadata": {},
     "output_type": "execute_result"
    }
   ],
   "source": [
    "base"
   ]
  },
  {
   "cell_type": "code",
   "execution_count": 11,
   "id": "4236666f-1735-4422-a02e-5f1e71983e34",
   "metadata": {},
   "outputs": [],
   "source": [
    "selected_states=['Maharashtra']\n",
    "selected_cities=['Pune','Mumbai']\n",
    "selected_pincodes=[411002,\n",
    "   411007,\n",
    "   411045,\n",
    "   411021,\n",
    "   411038,\n",
    "   411028,\n",
    "   411014,\n",
    "   411005,\n",
    "   400008,\n",
    "   400083,\n",
    "   400012,\n",
    "   400077,\n",
    "   400010,\n",
    "   400080,\n",
    "   400070,\n",
    "   400086,\n",
    "   400055,\n",
    "   400097,\n",
    "   400005,\n",
    "   400013]"
   ]
  },
  {
   "cell_type": "code",
   "execution_count": 12,
   "id": "f275b0e8-e578-417e-ae5d-b4ac420222cb",
   "metadata": {},
   "outputs": [
    {
     "name": "stdout",
     "output_type": "stream",
     "text": [
      "{'Maharashtra': {'Mumbai': {'selected': True, 'pincodes': [400008, 400083, 400012, 400077, 400010, 400080, 400070, 400086, 400055, 400097, 400005, 400013]}, 'Pune': {'selected': True, 'pincodes': [411002, 411007, 411045, 411021, 411038, 411028, 411014, 411005]}}}\n"
     ]
    }
   ],
   "source": [
    "grouped_selection_mkt = {}\n",
    "for state, cities in markets.items():\n",
    "    for city, pincodes in cities.items():\n",
    "        selected_city = city in selected_cities\n",
    "        selected_city_pincodes = [p for p in pincodes if p in selected_pincodes]\n",
    "        if selected_city or selected_city_pincodes:\n",
    "            grouped_selection_mkt.setdefault(state, {})[city] = {\n",
    "                \"selected\": selected_city,\n",
    "                \"pincodes\": selected_city_pincodes\n",
    "            }\n",
    "print(grouped_selection_mkt)"
   ]
  },
  {
   "cell_type": "code",
   "execution_count": 13,
   "id": "e02cc4fa-dfb4-40da-b572-81d12b4c50c7",
   "metadata": {},
   "outputs": [],
   "source": [
    "selected_features=['Online_Shopping', 'Linear_Television', 'Smart_Television']"
   ]
  },
  {
   "cell_type": "code",
   "execution_count": 14,
   "id": "c8815ab7-1489-421b-8ae7-0debc8d2a62b",
   "metadata": {},
   "outputs": [],
   "source": [
    "df_pincodes = df[(df['State'].isin(selected_states)) & (df['City'].isin(selected_cities)) & (df['pincode'].isin(selected_pincodes))]\n",
    "count_selected_pincode=df_pincodes[selected_features].sum().to_dict()\n",
    "perc_selected_pincodes={k: round((v/df_pincodes.shape[0])*100) for k, v in count_selected_pincode.items()}"
   ]
  },
  {
   "cell_type": "code",
   "execution_count": 15,
   "id": "80cf39e3-ef39-415b-bbbb-6b89ebda54c5",
   "metadata": {},
   "outputs": [
    {
     "data": {
      "text/plain": [
       "{'Online_Shopping': 47, 'Linear_Television': 94, 'Smart_Television': 33}"
      ]
     },
     "execution_count": 15,
     "metadata": {},
     "output_type": "execute_result"
    }
   ],
   "source": [
    "perc_selected_pincodes"
   ]
  },
  {
   "cell_type": "code",
   "execution_count": 16,
   "id": "afa54f23-c89e-4b5d-99ab-0f56b5116579",
   "metadata": {},
   "outputs": [
    {
     "data": {
      "text/plain": [
       "48"
      ]
     },
     "execution_count": 16,
     "metadata": {},
     "output_type": "execute_result"
    }
   ],
   "source": [
    "base['state'][selected_states[0]]['Online_Shopping']"
   ]
  },
  {
   "cell_type": "code",
   "execution_count": 26,
   "id": "bd0debe4-c564-429a-8c9d-83e84be22884",
   "metadata": {},
   "outputs": [
    {
     "data": {
      "text/plain": [
       "-32.85714285714286"
      ]
     },
     "execution_count": 26,
     "metadata": {},
     "output_type": "execute_result"
    }
   ],
   "source": [
    "((47/70)*100)-100"
   ]
  },
  {
   "cell_type": "code",
   "execution_count": 17,
   "id": "691b1188-7637-42cb-8011-31a1aa3ddc87",
   "metadata": {},
   "outputs": [],
   "source": [
    "ps={}\n",
    "ps_pan_india={}\n",
    "ps_state={}\n",
    "ps_city={}\n",
    "for feature in selected_features:\n",
    "    ps_pan_india[feature]=(perc_selected_pincodes[feature]/base['pan_india'][feature]*100)-100\n",
    "    ps_state[feature]=(perc_selected_pincodes[feature]/base['state'][selected_states[0]][feature]*100)-100\n",
    "    ps_city[feature]=(perc_selected_pincodes[feature]/base['city'][selected_states[0]][selected_cities[0]][feature]*100)-100\n",
    "ps['pan_india']=ps_pan_india\n",
    "ps['state']=ps_state\n",
    "ps['city']=ps_city"
   ]
  },
  {
   "cell_type": "code",
   "execution_count": 18,
   "id": "3f6429ab-5ab0-410e-967a-a864fee0955e",
   "metadata": {},
   "outputs": [
    {
     "data": {
      "text/plain": [
       "{'pan_india': {'Online_Shopping': -9.615384615384613,\n",
       "  'Linear_Television': -2.083333333333343,\n",
       "  'Smart_Television': 0.0},\n",
       " 'state': {'Online_Shopping': -2.083333333333343,\n",
       "  'Linear_Television': -1.05263157894737,\n",
       "  'Smart_Television': 0.0},\n",
       " 'city': {'Online_Shopping': -32.85714285714286,\n",
       "  'Linear_Television': -6.0,\n",
       "  'Smart_Television': -19.51219512195121}}"
      ]
     },
     "execution_count": 18,
     "metadata": {},
     "output_type": "execute_result"
    }
   ],
   "source": [
    "ps"
   ]
  },
  {
   "cell_type": "code",
   "execution_count": 19,
   "id": "d4861471-7cd4-400b-925a-b3decc897597",
   "metadata": {},
   "outputs": [],
   "source": [
    "# perc_selected_pincodes{'Online_Shopping': 71, 'Linear_Television': 100, 'Smart_Television': 41}\n",
    "# selected_states=['Maharashtra']\n",
    "# selected_cities=['Pune']\n",
    "# selected_pincodes=[411002,\n",
    "#    411007,\n",
    "#    411045,\n",
    "#    411021,\n",
    "#    411038,\n",
    "#    411028,\n",
    "#    411014,\n",
    "#    411005,\n",
    "#    411001]\n",
    "# ps-{'pan_india': {'Online_Shopping': 36.53846153846155,\n",
    "#   'Linear_Television': 4.166666666666671,\n",
    "#   'Smart_Television': 24.24242424242425},\n",
    "#  'state': {'Online_Shopping': 47.916666666666686,\n",
    "#   'Linear_Television': 5.263157894736835,\n",
    "#   'Smart_Television': 24.24242424242425},\n",
    "#  'city': {'Online_Shopping': 1.4285714285714164,\n",
    "#   'Linear_Television': 0.0,\n",
    "#   'Smart_Television': 0.0}}"
   ]
  },
  {
   "cell_type": "code",
   "execution_count": 20,
   "id": "ae6d6327-dd5c-40ed-98fe-07712b3ea401",
   "metadata": {},
   "outputs": [],
   "source": [
    "# df_pincodes = df[(df['State'].isin(selected_states)) & (df['City'].isin(selected_cities)) & (df['pincode'].isin(selected_pincodes))]\n",
    "# # df_pincodes.to_excel('pincodes.xlsx',index=False)\n",
    "# count_selected_pincode=df_pincodes[features].sum().to_dict()\n",
    "# perc_selected_pincodes={k: (v/df_pincodes.shape[0])*100 for k, v in count_selected_pincode.items()}\n",
    "# df_all_pincodes = df[(df['State'].isin(selected_states)) & (df['City'].isin(selected_cities))]\n",
    "# # df_city.to_excel('city.xlsx',index=False)\n",
    "# count_all_pincodes = df_all_pincodes[features].sum().to_dict()\n",
    "# perc_all_pincodes={k: (v/df_all_pincodes.shape[0])*100 for k, v in count_all_pincodes.items()}\n",
    "# df_city=df[(df['State'].isin(selected_states))]\n",
    "# # df_state.to_excel('state.xlsx',index=False)\n",
    "# count_city = df_city[features].sum().to_dict()\n",
    "# perc_city={k: (v/df_city.shape[0])*100 for k, v in count_city.items()}\n",
    "\n",
    "# count_all=df[features].sum().to_dict()\n",
    "# perc_all={k: (v/df.shape[0])*100 for k, v in count_all.items()}\n",
    "    "
   ]
  },
  {
   "cell_type": "code",
   "execution_count": null,
   "id": "020399dc-cc5d-40c0-b960-23dabf7fc5f4",
   "metadata": {},
   "outputs": [],
   "source": [
    "\"VBH_company_base\",\"VBJ_Company_Type\",\"VBN_Number_of_Employees\",\"VBP1_type_project_Single_family_residential\",\n",
    "\"VBP2_type_project_Multi_family_residential\",\"VBP3_type_project_Hospitality\",\"VBP4_type_project_Healthcare\",\n",
    "\"VBP5_type_project_Educational_facilities\",\"VBP6_type_project_Transportation\",\"VBP7_type_project_Entertainment_Recreation\",\n",
    "\"VBP8_type_project_Retail_Spaces\",\"VBP9_type_project_Office_buildings\",\"VBQ_Geographical_regions\",\"VBR_Total_years_experience\",\n",
    "\"VBV1_Hot_cold_potable_water_systems\",\"VBV2_Radiant_Heating_Cooling_Systems\"\n"
   ]
  }
 ],
 "metadata": {
  "kernelspec": {
   "display_name": "Python 3 (ipykernel)",
   "language": "python",
   "name": "python3"
  },
  "language_info": {
   "codemirror_mode": {
    "name": "ipython",
    "version": 3
   },
   "file_extension": ".py",
   "mimetype": "text/x-python",
   "name": "python",
   "nbconvert_exporter": "python",
   "pygments_lexer": "ipython3",
   "version": "3.12.4"
  }
 },
 "nbformat": 4,
 "nbformat_minor": 5
}
